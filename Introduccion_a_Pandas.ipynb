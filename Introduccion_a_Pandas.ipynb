{
  "nbformat": 4,
  "nbformat_minor": 0,
  "metadata": {
    "colab": {
      "name": "Introduccion_a_Pandas.ipynb",
      "provenance": [],
      "collapsed_sections": [],
      "authorship_tag": "ABX9TyO2mnBHOkMP5pPf+8n+kuQF",
      "include_colab_link": true
    },
    "kernelspec": {
      "name": "python3",
      "display_name": "Python 3"
    },
    "language_info": {
      "name": "python"
    }
  },
  "cells": [
    {
      "cell_type": "markdown",
      "metadata": {
        "id": "view-in-github",
        "colab_type": "text"
      },
      "source": [
        "<a href=\"https://colab.research.google.com/github/Navarrojuan212/Proteccion/blob/main/Introduccion_a_Pandas.ipynb\" target=\"_parent\"><img src=\"https://colab.research.google.com/assets/colab-badge.svg\" alt=\"Open In Colab\"/></a>"
      ]
    },
    {
      "cell_type": "code",
      "metadata": {
        "id": "cPpnjWvthrJI"
      },
      "source": [
        "''' Cómo insertar una imagen (?)'''\n",
        "# ![](https://drive.google.com/uc?export=view&id=your_id)"
      ],
      "execution_count": null,
      "outputs": []
    },
    {
      "cell_type": "markdown",
      "metadata": {
        "id": "IrZI5SyEmxJj"
      },
      "source": [
        "#[**Pandas**](https://pandas.pydata.org/pandas-docs/stable/user_guide/10min.html#minutes-to-pandas)\n",
        "\n",
        ">Es una librería rápida, de alta eficiencia para la manipulación , análisis y visualización de datos tabulares.\n",
        "\n",
        "* Está construida sobre [Numpy](https://pypi.org/project/numpy/) y [Matplotlib](https://pypi.org/project/matplotlib/)\n",
        "* Fue lanzada en el año 2012\n",
        "* Popular en ciencia de datos, si se quiere trabajar con el análisis de datos se debe conocer esta herramienta de Python.\n",
        "***\n",
        "[Guía](https://www.youtube.com/watch?v=Mm1L4Bde6_w)\n",
        "\n",
        "Así como en numpy, los objetos fundamentales son los nd arrays -Vectores, matrices  o tensores de n dimensiones- \n",
        "\n",
        "En pandas, los objetos fundamentales son los dataframes\n",
        "\n"
      ]
    },
    {
      "cell_type": "markdown",
      "metadata": {
        "id": "PILyQty_zLvz"
      },
      "source": [
        "##**¿Que es un Dataframe?**\n",
        "Es un arreglo tabular para el almacenamiento de datos con una serie de propiedades particulares que facilitan su manipulación.\n",
        "\n",
        "Un arreglo tabular, es un arreglo de filas y columnas, un objeto de 2 dimensiones en los que podemos almacenar datos de distintos tipos en la mayoria de los casos. Estos formatos tabulares siguen la misma estructura de las tablas SQL y excel (De las tablas dinámicas).\n",
        "\n"
      ]
    },
    {
      "cell_type": "markdown",
      "metadata": {
        "id": "KFJ5t0yaYCIq"
      },
      "source": [
        "##**Algunas de las ventajas de Pandas**\n",
        "Con Pandas tenemos la facilidad de anexar filas y columnas, que \n",
        ">**1. Carga de datos de distintas fuentes**\n",
        "  - Hojas de Excel, archivos de texto plano, archivos json, bases de datos relacionales, etc.\n",
        "\n",
        ">**2. Transformaciones de formas de las tablas**\n",
        "  - Transformaciones de matrices piboteos, etc\n",
        "\n",
        ">**3. Facilita las transformaciones de datos**\n",
        "  - Conversiones entre tipos de datos\n",
        "    - Str a datetime, str a int, manipulacion de caracteres, etc\n",
        "\n",
        ">**4. Calculo de medidas derivadas**\n",
        "  - Funciones matemáticas que aplicamos sobre columnas o filas específicas de un dataframe para generar nuevas columnas o filas.\n",
        "\n",
        ">**5.Análisis y visualizacion de datos** \n",
        "  - Sobre los dataframe podemos computar directamente graficos de barras, tortas, histogramas, diagramas de correlación, etc. Esto sucede gracias a la integración que tiene con matplotlib.\n",
        "\n",
        ">**6. Facilita la escritura de tablas de datos, resultantes de nuestras operaciones a distintas fuentes**\n",
        "  - Facilita la escritura de tablas hacia diferentes fuentes, por ejemplo Excel, archivos de texto plano, archivos  .Json, bases de datos relacionales, etc."
      ]
    },
    {
      "cell_type": "markdown",
      "metadata": {
        "id": "g6YoOTrtlRVP"
      },
      "source": [
        ""
      ]
    },
    {
      "cell_type": "code",
      "metadata": {
        "id": "1K6IeKTFixFG"
      },
      "source": [
        "from google.colab import drive\n",
        "drive.mount('/content/drive')"
      ],
      "execution_count": null,
      "outputs": []
    },
    {
      "cell_type": "code",
      "metadata": {
        "id": "gF4EOrOFh6lB"
      },
      "source": [
        "import pandas as pd\n",
        "import requests"
      ],
      "execution_count": null,
      "outputs": []
    },
    {
      "cell_type": "code",
      "metadata": {
        "id": "4QC0HuAyiALL"
      },
      "source": [
        "json_covid19 = requests.get('https://api.covid19api.com/summary').json()\n",
        "datos_Covid19 = pd.DataFrame.from_dict(json_covid19['Countries'])"
      ],
      "execution_count": null,
      "outputs": []
    },
    {
      "cell_type": "code",
      "metadata": {
        "colab": {
          "base_uri": "https://localhost:8080/"
        },
        "id": "OSuYrDSrjYpN",
        "outputId": "06ce076d-44e3-41ac-9fdd-2be180eb5714"
      },
      "source": [
        "datos_Covid19.info()"
      ],
      "execution_count": null,
      "outputs": [
        {
          "output_type": "stream",
          "text": [
            "<class 'pandas.core.frame.DataFrame'>\n",
            "RangeIndex: 190 entries, 0 to 189\n",
            "Data columns (total 12 columns):\n",
            " #   Column          Non-Null Count  Dtype \n",
            "---  ------          --------------  ----- \n",
            " 0   ID              190 non-null    object\n",
            " 1   Country         190 non-null    object\n",
            " 2   CountryCode     190 non-null    object\n",
            " 3   Slug            190 non-null    object\n",
            " 4   NewConfirmed    190 non-null    int64 \n",
            " 5   TotalConfirmed  190 non-null    int64 \n",
            " 6   NewDeaths       190 non-null    int64 \n",
            " 7   TotalDeaths     190 non-null    int64 \n",
            " 8   NewRecovered    190 non-null    int64 \n",
            " 9   TotalRecovered  190 non-null    int64 \n",
            " 10  Date            190 non-null    object\n",
            " 11  Premium         190 non-null    object\n",
            "dtypes: int64(6), object(6)\n",
            "memory usage: 17.9+ KB\n"
          ],
          "name": "stdout"
        }
      ]
    },
    {
      "cell_type": "code",
      "metadata": {
        "colab": {
          "base_uri": "https://localhost:8080/",
          "height": 297
        },
        "id": "p-3Y3wn6kM6p",
        "outputId": "af0ddd2a-9749-4b81-fe67-634e8eda815f"
      },
      "source": [
        "datos_Covid19.describe()"
      ],
      "execution_count": null,
      "outputs": [
        {
          "output_type": "execute_result",
          "data": {
            "text/html": [
              "<div>\n",
              "<style scoped>\n",
              "    .dataframe tbody tr th:only-of-type {\n",
              "        vertical-align: middle;\n",
              "    }\n",
              "\n",
              "    .dataframe tbody tr th {\n",
              "        vertical-align: top;\n",
              "    }\n",
              "\n",
              "    .dataframe thead th {\n",
              "        text-align: right;\n",
              "    }\n",
              "</style>\n",
              "<table border=\"1\" class=\"dataframe\">\n",
              "  <thead>\n",
              "    <tr style=\"text-align: right;\">\n",
              "      <th></th>\n",
              "      <th>NewConfirmed</th>\n",
              "      <th>TotalConfirmed</th>\n",
              "      <th>NewDeaths</th>\n",
              "      <th>TotalDeaths</th>\n",
              "      <th>NewRecovered</th>\n",
              "      <th>TotalRecovered</th>\n",
              "    </tr>\n",
              "  </thead>\n",
              "  <tbody>\n",
              "    <tr>\n",
              "      <th>count</th>\n",
              "      <td>190.000000</td>\n",
              "      <td>1.900000e+02</td>\n",
              "      <td>190.000000</td>\n",
              "      <td>190.000000</td>\n",
              "      <td>190.000000</td>\n",
              "      <td>1.900000e+02</td>\n",
              "    </tr>\n",
              "    <tr>\n",
              "      <th>mean</th>\n",
              "      <td>3879.057895</td>\n",
              "      <td>8.392175e+05</td>\n",
              "      <td>71.705263</td>\n",
              "      <td>17446.973684</td>\n",
              "      <td>3952.473684</td>\n",
              "      <td>5.038129e+05</td>\n",
              "    </tr>\n",
              "    <tr>\n",
              "      <th>std</th>\n",
              "      <td>26021.688471</td>\n",
              "      <td>3.206155e+06</td>\n",
              "      <td>355.767324</td>\n",
              "      <td>60387.933171</td>\n",
              "      <td>27184.813796</td>\n",
              "      <td>1.836311e+06</td>\n",
              "    </tr>\n",
              "    <tr>\n",
              "      <th>min</th>\n",
              "      <td>0.000000</td>\n",
              "      <td>1.000000e+00</td>\n",
              "      <td>0.000000</td>\n",
              "      <td>0.000000</td>\n",
              "      <td>0.000000</td>\n",
              "      <td>0.000000e+00</td>\n",
              "    </tr>\n",
              "    <tr>\n",
              "      <th>25%</th>\n",
              "      <td>5.250000</td>\n",
              "      <td>1.134950e+04</td>\n",
              "      <td>0.000000</td>\n",
              "      <td>148.750000</td>\n",
              "      <td>0.000000</td>\n",
              "      <td>6.640000e+03</td>\n",
              "    </tr>\n",
              "    <tr>\n",
              "      <th>50%</th>\n",
              "      <td>218.500000</td>\n",
              "      <td>9.404150e+04</td>\n",
              "      <td>4.000000</td>\n",
              "      <td>1232.000000</td>\n",
              "      <td>85.500000</td>\n",
              "      <td>4.690400e+04</td>\n",
              "    </tr>\n",
              "    <tr>\n",
              "      <th>75%</th>\n",
              "      <td>1175.250000</td>\n",
              "      <td>3.822292e+05</td>\n",
              "      <td>26.000000</td>\n",
              "      <td>7466.250000</td>\n",
              "      <td>1143.000000</td>\n",
              "      <td>2.698348e+05</td>\n",
              "    </tr>\n",
              "    <tr>\n",
              "      <th>max</th>\n",
              "      <td>348421.000000</td>\n",
              "      <td>3.277891e+07</td>\n",
              "      <td>4205.000000</td>\n",
              "      <td>582837.000000</td>\n",
              "      <td>355338.000000</td>\n",
              "      <td>1.938264e+07</td>\n",
              "    </tr>\n",
              "  </tbody>\n",
              "</table>\n",
              "</div>"
            ],
            "text/plain": [
              "        NewConfirmed  TotalConfirmed  ...   NewRecovered  TotalRecovered\n",
              "count     190.000000    1.900000e+02  ...     190.000000    1.900000e+02\n",
              "mean     3879.057895    8.392175e+05  ...    3952.473684    5.038129e+05\n",
              "std     26021.688471    3.206155e+06  ...   27184.813796    1.836311e+06\n",
              "min         0.000000    1.000000e+00  ...       0.000000    0.000000e+00\n",
              "25%         5.250000    1.134950e+04  ...       0.000000    6.640000e+03\n",
              "50%       218.500000    9.404150e+04  ...      85.500000    4.690400e+04\n",
              "75%      1175.250000    3.822292e+05  ...    1143.000000    2.698348e+05\n",
              "max    348421.000000    3.277891e+07  ...  355338.000000    1.938264e+07\n",
              "\n",
              "[8 rows x 6 columns]"
            ]
          },
          "metadata": {
            "tags": []
          },
          "execution_count": 8
        }
      ]
    },
    {
      "cell_type": "code",
      "metadata": {
        "id": "9x0PDztZkQoS"
      },
      "source": [
        ""
      ],
      "execution_count": null,
      "outputs": []
    }
  ]
}